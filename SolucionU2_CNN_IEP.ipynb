{
 "cells": [
  {
   "cell_type": "code",
   "execution_count": 1,
   "metadata": {
    "id": "1U8nADLUG2ic"
   },
   "outputs": [],
   "source": [
    "import tensorflow as tf\n",
    "from tensorflow.keras import layers, models\n",
    "from tensorflow.keras.preprocessing.image import ImageDataGenerator\n",
    "from tensorflow.keras.datasets import cifar100\n",
    "from tensorflow.keras.utils import to_categorical"
   ]
  },
  {
   "cell_type": "code",
   "execution_count": 2,
   "metadata": {
    "colab": {
     "base_uri": "https://localhost:8080/"
    },
    "id": "F2tjQoo5G4ue",
    "outputId": "114a91c2-b458-4a4e-e44b-ee7e17ec72d2"
   },
   "outputs": [
    {
     "name": "stdout",
     "output_type": "stream",
     "text": [
      "Downloading data from https://www.cs.toronto.edu/~kriz/cifar-100-python.tar.gz\n",
      "\u001b[1m169001437/169001437\u001b[0m \u001b[32m━━━━━━━━━━━━━━━━━━━━\u001b[0m\u001b[37m\u001b[0m \u001b[1m13s\u001b[0m 0us/step\n"
     ]
    }
   ],
   "source": [
    "# Cargar el conjunto de datos CIFAR-100\n",
    "(x_train, y_train), (x_test, y_test) = cifar100.load_data()\n",
    "n_classes = 100"
   ]
  },
  {
   "cell_type": "code",
   "execution_count": 3,
   "metadata": {
    "id": "_u70HE1xG8R9"
   },
   "outputs": [],
   "source": [
    "# Normalizar los datos de píxeles en el rango [0, 1]\n",
    "x_train = x_train.astype('float32') / 255\n",
    "x_test = x_test.astype('float32') / 255\n",
    "\n",
    "# Convertir las etiquetas a vectores one-hot\n",
    "y_train = to_categorical(y_train, n_classes)\n",
    "y_test = to_categorical(y_test, n_classes)"
   ]
  },
  {
   "cell_type": "code",
   "execution_count": 4,
   "metadata": {
    "id": "NpPZrmITHAD6"
   },
   "outputs": [],
   "source": [
    "# Configurar la aumentación de datos\n",
    "datagen = ImageDataGenerator(\n",
    "    rotation_range=15,\n",
    "    width_shift_range=0.1,\n",
    "    height_shift_range=0.1,\n",
    "    horizontal_flip=True,\n",
    "    fill_mode='nearest'\n",
    ")\n",
    "datagen.fit(x_train)"
   ]
  },
  {
   "cell_type": "code",
   "execution_count": 5,
   "metadata": {
    "colab": {
     "base_uri": "https://localhost:8080/"
    },
    "id": "cjVB3RNTHCwB",
    "outputId": "a3a21560-eeef-4720-8cfd-92f7c40dca66"
   },
   "outputs": [
    {
     "name": "stderr",
     "output_type": "stream",
     "text": [
      "/usr/local/lib/python3.10/dist-packages/keras/src/layers/convolutional/base_conv.py:107: UserWarning: Do not pass an `input_shape`/`input_dim` argument to a layer. When using Sequential models, prefer using an `Input(shape)` object as the first layer in the model instead.\n",
      "  super().__init__(activity_regularizer=activity_regularizer, **kwargs)\n"
     ]
    }
   ],
   "source": [
    "# Definir el modelo de la red neuronal convolucional\n",
    "model = models.Sequential([\n",
    "    # Capa 1: Convolucional\n",
    "    layers.Conv2D(32, (3, 3), padding='same', activation='relu', input_shape=(32, 32, 3)),\n",
    "\n",
    "    # Capa 2: Convolucional\n",
    "    layers.Conv2D(64, (3, 3), padding='same', activation='relu'),\n",
    "\n",
    "    # Capa 3: Agrupamiento\n",
    "    layers.MaxPooling2D(pool_size=(2, 2)),\n",
    "\n",
    "    # Capa 4: Convolucional\n",
    "    layers.Conv2D(128, (3, 3), padding='same', activation='relu'),\n",
    "\n",
    "    # Capa 5: Agrupamiento\n",
    "    layers.MaxPooling2D(pool_size=(2, 2)),\n",
    "\n",
    "    # Capa 6: Aplanado\n",
    "    layers.Flatten(),\n",
    "\n",
    "    # Capa 7: Densa\n",
    "    layers.Dense(256, activation='relu'),\n",
    "\n",
    "    # Capa 8: Densa con softmax\n",
    "    layers.Dense(100, activation='softmax')\n",
    "])"
   ]
  },
  {
   "cell_type": "code",
   "execution_count": 6,
   "metadata": {
    "id": "AxUNmR_bHSwZ"
   },
   "outputs": [],
   "source": [
    "# Compilar el modelo\n",
    "model.compile(\n",
    "    optimizer='adam',\n",
    "    loss='categorical_crossentropy',\n",
    "    metrics=['accuracy']\n",
    ")"
   ]
  },
  {
   "cell_type": "code",
   "execution_count": 7,
   "metadata": {
    "colab": {
     "base_uri": "https://localhost:8080/"
    },
    "id": "gcYbNAeDHGRJ",
    "outputId": "b495521d-3512-4e9b-f305-429db2debabf"
   },
   "outputs": [
    {
     "name": "stdout",
     "output_type": "stream",
     "text": [
      "Epoch 1/50\n"
     ]
    },
    {
     "name": "stderr",
     "output_type": "stream",
     "text": [
      "/usr/local/lib/python3.10/dist-packages/keras/src/trainers/data_adapters/py_dataset_adapter.py:122: UserWarning: Your `PyDataset` class should call `super().__init__(**kwargs)` in its constructor. `**kwargs` can include `workers`, `use_multiprocessing`, `max_queue_size`. Do not pass these arguments to `fit()`, as they will be ignored.\n",
      "  self._warn_if_super_not_called()\n"
     ]
    },
    {
     "name": "stdout",
     "output_type": "stream",
     "text": [
      "\u001b[1m781/781\u001b[0m \u001b[32m━━━━━━━━━━━━━━━━━━━━\u001b[0m\u001b[37m\u001b[0m \u001b[1m41s\u001b[0m 46ms/step - accuracy: 0.0755 - loss: 4.1019 - val_accuracy: 0.2328 - val_loss: 3.1759\n",
      "Epoch 2/50\n",
      "\u001b[1m  1/781\u001b[0m \u001b[37m━━━━━━━━━━━━━━━━━━━━\u001b[0m \u001b[1m6s\u001b[0m 8ms/step - accuracy: 0.1875 - loss: 3.0858"
     ]
    },
    {
     "name": "stderr",
     "output_type": "stream",
     "text": [
      "/usr/lib/python3.10/contextlib.py:153: UserWarning: Your input ran out of data; interrupting training. Make sure that your dataset or generator can generate at least `steps_per_epoch * epochs` batches. You may need to use the `.repeat()` function when building your dataset.\n",
      "  self.gen.throw(typ, value, traceback)\n"
     ]
    },
    {
     "name": "stdout",
     "output_type": "stream",
     "text": [
      "\b\b\b\b\b\b\b\b\b\b\b\b\b\b\b\b\b\b\b\b\b\b\b\b\b\b\b\b\b\b\b\b\b\b\b\b\b\b\b\b\b\b\b\b\b\b\b\b\b\b\b\b\b\b\b\b\b\b\b\b\b\b\b\b\b\b\b\b\b\b\b\b\b\b\r",
      "\u001b[1m781/781\u001b[0m \u001b[32m━━━━━━━━━━━━━━━━━━━━\u001b[0m\u001b[37m\u001b[0m \u001b[1m1s\u001b[0m 717us/step - accuracy: 0.1875 - loss: 3.0858 - val_accuracy: 0.2340 - val_loss: 3.1699\n",
      "Epoch 3/50\n",
      "\u001b[1m781/781\u001b[0m \u001b[32m━━━━━━━━━━━━━━━━━━━━\u001b[0m\u001b[37m\u001b[0m \u001b[1m29s\u001b[0m 37ms/step - accuracy: 0.2356 - loss: 3.1241 - val_accuracy: 0.3105 - val_loss: 2.7264\n",
      "Epoch 4/50\n",
      "\u001b[1m781/781\u001b[0m \u001b[32m━━━━━━━━━━━━━━━━━━━━\u001b[0m\u001b[37m\u001b[0m \u001b[1m1s\u001b[0m 754us/step - accuracy: 0.2344 - loss: 2.7163 - val_accuracy: 0.3082 - val_loss: 2.7426\n",
      "Epoch 5/50\n",
      "\u001b[1m781/781\u001b[0m \u001b[32m━━━━━━━━━━━━━━━━━━━━\u001b[0m\u001b[37m\u001b[0m \u001b[1m29s\u001b[0m 37ms/step - accuracy: 0.3124 - loss: 2.7342 - val_accuracy: 0.3471 - val_loss: 2.5695\n",
      "Epoch 6/50\n",
      "\u001b[1m781/781\u001b[0m \u001b[32m━━━━━━━━━━━━━━━━━━━━\u001b[0m\u001b[37m\u001b[0m \u001b[1m1s\u001b[0m 743us/step - accuracy: 0.3281 - loss: 2.4759 - val_accuracy: 0.3451 - val_loss: 2.5926\n",
      "Epoch 7/50\n",
      "\u001b[1m781/781\u001b[0m \u001b[32m━━━━━━━━━━━━━━━━━━━━\u001b[0m\u001b[37m\u001b[0m \u001b[1m29s\u001b[0m 37ms/step - accuracy: 0.3578 - loss: 2.5022 - val_accuracy: 0.3705 - val_loss: 2.4496\n",
      "Epoch 8/50\n",
      "\u001b[1m781/781\u001b[0m \u001b[32m━━━━━━━━━━━━━━━━━━━━\u001b[0m\u001b[37m\u001b[0m \u001b[1m1s\u001b[0m 750us/step - accuracy: 0.4219 - loss: 2.1539 - val_accuracy: 0.3784 - val_loss: 2.4071\n",
      "Epoch 9/50\n",
      "\u001b[1m781/781\u001b[0m \u001b[32m━━━━━━━━━━━━━━━━━━━━\u001b[0m\u001b[37m\u001b[0m \u001b[1m30s\u001b[0m 38ms/step - accuracy: 0.3861 - loss: 2.3531 - val_accuracy: 0.3937 - val_loss: 2.3465\n",
      "Epoch 10/50\n",
      "\u001b[1m781/781\u001b[0m \u001b[32m━━━━━━━━━━━━━━━━━━━━\u001b[0m\u001b[37m\u001b[0m \u001b[1m1s\u001b[0m 746us/step - accuracy: 0.3594 - loss: 2.3189 - val_accuracy: 0.3994 - val_loss: 2.3274\n",
      "Epoch 11/50\n",
      "\u001b[1m781/781\u001b[0m \u001b[32m━━━━━━━━━━━━━━━━━━━━\u001b[0m\u001b[37m\u001b[0m \u001b[1m29s\u001b[0m 37ms/step - accuracy: 0.4112 - loss: 2.2635 - val_accuracy: 0.4235 - val_loss: 2.2208\n",
      "Epoch 12/50\n",
      "\u001b[1m781/781\u001b[0m \u001b[32m━━━━━━━━━━━━━━━━━━━━\u001b[0m\u001b[37m\u001b[0m \u001b[1m1s\u001b[0m 741us/step - accuracy: 0.4688 - loss: 2.2144 - val_accuracy: 0.4270 - val_loss: 2.2133\n",
      "Epoch 13/50\n",
      "\u001b[1m781/781\u001b[0m \u001b[32m━━━━━━━━━━━━━━━━━━━━\u001b[0m\u001b[37m\u001b[0m \u001b[1m29s\u001b[0m 37ms/step - accuracy: 0.4316 - loss: 2.1627 - val_accuracy: 0.4292 - val_loss: 2.1897\n",
      "Epoch 14/50\n",
      "\u001b[1m781/781\u001b[0m \u001b[32m━━━━━━━━━━━━━━━━━━━━\u001b[0m\u001b[37m\u001b[0m \u001b[1m1s\u001b[0m 757us/step - accuracy: 0.4844 - loss: 1.9770 - val_accuracy: 0.4314 - val_loss: 2.1767\n",
      "Epoch 15/50\n",
      "\u001b[1m781/781\u001b[0m \u001b[32m━━━━━━━━━━━━━━━━━━━━\u001b[0m\u001b[37m\u001b[0m \u001b[1m29s\u001b[0m 37ms/step - accuracy: 0.4514 - loss: 2.0782 - val_accuracy: 0.4401 - val_loss: 2.2295\n",
      "Epoch 16/50\n",
      "\u001b[1m781/781\u001b[0m \u001b[32m━━━━━━━━━━━━━━━━━━━━\u001b[0m\u001b[37m\u001b[0m \u001b[1m1s\u001b[0m 738us/step - accuracy: 0.4219 - loss: 2.1416 - val_accuracy: 0.4449 - val_loss: 2.1979\n",
      "Epoch 17/50\n",
      "\u001b[1m781/781\u001b[0m \u001b[32m━━━━━━━━━━━━━━━━━━━━\u001b[0m\u001b[37m\u001b[0m \u001b[1m30s\u001b[0m 37ms/step - accuracy: 0.4637 - loss: 2.0130 - val_accuracy: 0.4345 - val_loss: 2.2584\n",
      "Epoch 18/50\n",
      "\u001b[1m781/781\u001b[0m \u001b[32m━━━━━━━━━━━━━━━━━━━━\u001b[0m\u001b[37m\u001b[0m \u001b[1m1s\u001b[0m 712us/step - accuracy: 0.5312 - loss: 1.8890 - val_accuracy: 0.4344 - val_loss: 2.2492\n",
      "Epoch 19/50\n",
      "\u001b[1m781/781\u001b[0m \u001b[32m━━━━━━━━━━━━━━━━━━━━\u001b[0m\u001b[37m\u001b[0m \u001b[1m30s\u001b[0m 38ms/step - accuracy: 0.4772 - loss: 1.9600 - val_accuracy: 0.4721 - val_loss: 2.0286\n",
      "Epoch 20/50\n",
      "\u001b[1m781/781\u001b[0m \u001b[32m━━━━━━━━━━━━━━━━━━━━\u001b[0m\u001b[37m\u001b[0m \u001b[1m1s\u001b[0m 784us/step - accuracy: 0.4375 - loss: 2.0051 - val_accuracy: 0.4703 - val_loss: 2.0305\n",
      "Epoch 21/50\n",
      "\u001b[1m781/781\u001b[0m \u001b[32m━━━━━━━━━━━━━━━━━━━━\u001b[0m\u001b[37m\u001b[0m \u001b[1m30s\u001b[0m 38ms/step - accuracy: 0.4889 - loss: 1.9037 - val_accuracy: 0.4649 - val_loss: 2.0659\n",
      "Epoch 22/50\n",
      "\u001b[1m781/781\u001b[0m \u001b[32m━━━━━━━━━━━━━━━━━━━━\u001b[0m\u001b[37m\u001b[0m \u001b[1m1s\u001b[0m 748us/step - accuracy: 0.4688 - loss: 1.9263 - val_accuracy: 0.4627 - val_loss: 2.0638\n",
      "Epoch 23/50\n",
      "\u001b[1m781/781\u001b[0m \u001b[32m━━━━━━━━━━━━━━━━━━━━\u001b[0m\u001b[37m\u001b[0m \u001b[1m30s\u001b[0m 38ms/step - accuracy: 0.4945 - loss: 1.8762 - val_accuracy: 0.4778 - val_loss: 2.0253\n",
      "Epoch 24/50\n",
      "\u001b[1m781/781\u001b[0m \u001b[32m━━━━━━━━━━━━━━━━━━━━\u001b[0m\u001b[37m\u001b[0m \u001b[1m1s\u001b[0m 744us/step - accuracy: 0.4375 - loss: 1.7140 - val_accuracy: 0.4783 - val_loss: 2.0272\n",
      "Epoch 25/50\n",
      "\u001b[1m781/781\u001b[0m \u001b[32m━━━━━━━━━━━━━━━━━━━━\u001b[0m\u001b[37m\u001b[0m \u001b[1m29s\u001b[0m 37ms/step - accuracy: 0.5064 - loss: 1.8222 - val_accuracy: 0.4733 - val_loss: 2.0431\n",
      "Epoch 26/50\n",
      "\u001b[1m781/781\u001b[0m \u001b[32m━━━━━━━━━━━━━━━━━━━━\u001b[0m\u001b[37m\u001b[0m \u001b[1m1s\u001b[0m 738us/step - accuracy: 0.4219 - loss: 2.1420 - val_accuracy: 0.4728 - val_loss: 2.0462\n",
      "Epoch 27/50\n",
      "\u001b[1m781/781\u001b[0m \u001b[32m━━━━━━━━━━━━━━━━━━━━\u001b[0m\u001b[37m\u001b[0m \u001b[1m29s\u001b[0m 37ms/step - accuracy: 0.5151 - loss: 1.7945 - val_accuracy: 0.4637 - val_loss: 2.0821\n",
      "Epoch 28/50\n",
      "\u001b[1m781/781\u001b[0m \u001b[32m━━━━━━━━━━━━━━━━━━━━\u001b[0m\u001b[37m\u001b[0m \u001b[1m1s\u001b[0m 741us/step - accuracy: 0.4844 - loss: 1.9760 - val_accuracy: 0.4687 - val_loss: 2.0563\n",
      "Epoch 29/50\n",
      "\u001b[1m781/781\u001b[0m \u001b[32m━━━━━━━━━━━━━━━━━━━━\u001b[0m\u001b[37m\u001b[0m \u001b[1m29s\u001b[0m 37ms/step - accuracy: 0.5180 - loss: 1.7768 - val_accuracy: 0.4719 - val_loss: 2.0660\n",
      "Epoch 30/50\n",
      "\u001b[1m781/781\u001b[0m \u001b[32m━━━━━━━━━━━━━━━━━━━━\u001b[0m\u001b[37m\u001b[0m \u001b[1m1s\u001b[0m 737us/step - accuracy: 0.5000 - loss: 1.6097 - val_accuracy: 0.4690 - val_loss: 2.0871\n",
      "Epoch 31/50\n",
      "\u001b[1m781/781\u001b[0m \u001b[32m━━━━━━━━━━━━━━━━━━━━\u001b[0m\u001b[37m\u001b[0m \u001b[1m29s\u001b[0m 37ms/step - accuracy: 0.5282 - loss: 1.7385 - val_accuracy: 0.4768 - val_loss: 2.0405\n",
      "Epoch 32/50\n",
      "\u001b[1m781/781\u001b[0m \u001b[32m━━━━━━━━━━━━━━━━━━━━\u001b[0m\u001b[37m\u001b[0m \u001b[1m1s\u001b[0m 781us/step - accuracy: 0.5156 - loss: 1.7738 - val_accuracy: 0.4747 - val_loss: 2.0604\n",
      "Epoch 33/50\n",
      "\u001b[1m781/781\u001b[0m \u001b[32m━━━━━━━━━━━━━━━━━━━━\u001b[0m\u001b[37m\u001b[0m \u001b[1m29s\u001b[0m 37ms/step - accuracy: 0.5406 - loss: 1.6941 - val_accuracy: 0.4882 - val_loss: 2.0425\n",
      "Epoch 34/50\n",
      "\u001b[1m781/781\u001b[0m \u001b[32m━━━━━━━━━━━━━━━━━━━━\u001b[0m\u001b[37m\u001b[0m \u001b[1m1s\u001b[0m 737us/step - accuracy: 0.5312 - loss: 1.6040 - val_accuracy: 0.4862 - val_loss: 2.0553\n",
      "Epoch 35/50\n",
      "\u001b[1m781/781\u001b[0m \u001b[32m━━━━━━━━━━━━━━━━━━━━\u001b[0m\u001b[37m\u001b[0m \u001b[1m29s\u001b[0m 37ms/step - accuracy: 0.5411 - loss: 1.6788 - val_accuracy: 0.4831 - val_loss: 2.0142\n",
      "Epoch 36/50\n",
      "\u001b[1m781/781\u001b[0m \u001b[32m━━━━━━━━━━━━━━━━━━━━\u001b[0m\u001b[37m\u001b[0m \u001b[1m1s\u001b[0m 733us/step - accuracy: 0.5156 - loss: 1.9419 - val_accuracy: 0.4829 - val_loss: 2.0155\n",
      "Epoch 37/50\n",
      "\u001b[1m781/781\u001b[0m \u001b[32m━━━━━━━━━━━━━━━━━━━━\u001b[0m\u001b[37m\u001b[0m \u001b[1m29s\u001b[0m 37ms/step - accuracy: 0.5438 - loss: 1.6595 - val_accuracy: 0.4844 - val_loss: 2.0133\n",
      "Epoch 38/50\n",
      "\u001b[1m781/781\u001b[0m \u001b[32m━━━━━━━━━━━━━━━━━━━━\u001b[0m\u001b[37m\u001b[0m \u001b[1m1s\u001b[0m 737us/step - accuracy: 0.4844 - loss: 1.9401 - val_accuracy: 0.4835 - val_loss: 2.0184\n",
      "Epoch 39/50\n",
      "\u001b[1m781/781\u001b[0m \u001b[32m━━━━━━━━━━━━━━━━━━━━\u001b[0m\u001b[37m\u001b[0m \u001b[1m29s\u001b[0m 37ms/step - accuracy: 0.5502 - loss: 1.6351 - val_accuracy: 0.4743 - val_loss: 2.0816\n",
      "Epoch 40/50\n",
      "\u001b[1m781/781\u001b[0m \u001b[32m━━━━━━━━━━━━━━━━━━━━\u001b[0m\u001b[37m\u001b[0m \u001b[1m1s\u001b[0m 746us/step - accuracy: 0.5156 - loss: 1.8807 - val_accuracy: 0.4740 - val_loss: 2.0877\n",
      "Epoch 41/50\n",
      "\u001b[1m781/781\u001b[0m \u001b[32m━━━━━━━━━━━━━━━━━━━━\u001b[0m\u001b[37m\u001b[0m \u001b[1m30s\u001b[0m 38ms/step - accuracy: 0.5567 - loss: 1.5985 - val_accuracy: 0.4806 - val_loss: 2.0747\n",
      "Epoch 42/50\n",
      "\u001b[1m781/781\u001b[0m \u001b[32m━━━━━━━━━━━━━━━━━━━━\u001b[0m\u001b[37m\u001b[0m \u001b[1m1s\u001b[0m 738us/step - accuracy: 0.5000 - loss: 1.6150 - val_accuracy: 0.4791 - val_loss: 2.0679\n",
      "Epoch 43/50\n",
      "\u001b[1m781/781\u001b[0m \u001b[32m━━━━━━━━━━━━━━━━━━━━\u001b[0m\u001b[37m\u001b[0m \u001b[1m30s\u001b[0m 38ms/step - accuracy: 0.5602 - loss: 1.5817 - val_accuracy: 0.4816 - val_loss: 2.0850\n",
      "Epoch 44/50\n",
      "\u001b[1m781/781\u001b[0m \u001b[32m━━━━━━━━━━━━━━━━━━━━\u001b[0m\u001b[37m\u001b[0m \u001b[1m1s\u001b[0m 757us/step - accuracy: 0.5312 - loss: 1.7391 - val_accuracy: 0.4814 - val_loss: 2.0902\n",
      "Epoch 45/50\n",
      "\u001b[1m781/781\u001b[0m \u001b[32m━━━━━━━━━━━━━━━━━━━━\u001b[0m\u001b[37m\u001b[0m \u001b[1m30s\u001b[0m 38ms/step - accuracy: 0.5704 - loss: 1.5589 - val_accuracy: 0.4952 - val_loss: 1.9977\n",
      "Epoch 46/50\n",
      "\u001b[1m781/781\u001b[0m \u001b[32m━━━━━━━━━━━━━━━━━━━━\u001b[0m\u001b[37m\u001b[0m \u001b[1m1s\u001b[0m 741us/step - accuracy: 0.6250 - loss: 1.4955 - val_accuracy: 0.4947 - val_loss: 2.0053\n",
      "Epoch 47/50\n",
      "\u001b[1m781/781\u001b[0m \u001b[32m━━━━━━━━━━━━━━━━━━━━\u001b[0m\u001b[37m\u001b[0m \u001b[1m30s\u001b[0m 37ms/step - accuracy: 0.5711 - loss: 1.5372 - val_accuracy: 0.4985 - val_loss: 2.0020\n",
      "Epoch 48/50\n",
      "\u001b[1m781/781\u001b[0m \u001b[32m━━━━━━━━━━━━━━━━━━━━\u001b[0m\u001b[37m\u001b[0m \u001b[1m1s\u001b[0m 742us/step - accuracy: 0.4062 - loss: 1.6447 - val_accuracy: 0.4989 - val_loss: 2.0118\n",
      "Epoch 49/50\n",
      "\u001b[1m781/781\u001b[0m \u001b[32m━━━━━━━━━━━━━━━━━━━━\u001b[0m\u001b[37m\u001b[0m \u001b[1m30s\u001b[0m 38ms/step - accuracy: 0.5767 - loss: 1.5343 - val_accuracy: 0.4935 - val_loss: 2.0335\n",
      "Epoch 50/50\n",
      "\u001b[1m781/781\u001b[0m \u001b[32m━━━━━━━━━━━━━━━━━━━━\u001b[0m\u001b[37m\u001b[0m \u001b[1m1s\u001b[0m 739us/step - accuracy: 0.6562 - loss: 1.3115 - val_accuracy: 0.4922 - val_loss: 2.0481\n"
     ]
    },
    {
     "data": {
      "text/plain": [
       "<keras.src.callbacks.history.History at 0x7eed008b22c0>"
      ]
     },
     "execution_count": 7,
     "metadata": {},
     "output_type": "execute_result"
    }
   ],
   "source": [
    "# Entrenar el modelo con aumentación de datos\n",
    "model.fit(datagen.flow(x_train, y_train, batch_size=64),\n",
    "          steps_per_epoch=len(x_train) // 64,  # Divide correctamente para obtener el número de pasos\n",
    "          epochs=50,\n",
    "          validation_data=(x_test, y_test))"
   ]
  },
  {
   "cell_type": "code",
   "execution_count": 8,
   "metadata": {
    "colab": {
     "base_uri": "https://localhost:8080/"
    },
    "id": "DFRQmxLSHYSG",
    "outputId": "0a6ea21a-7d31-4639-80fc-e156ce3143b7"
   },
   "outputs": [
    {
     "name": "stdout",
     "output_type": "stream",
     "text": [
      "\u001b[1m313/313\u001b[0m \u001b[32m━━━━━━━━━━━━━━━━━━━━\u001b[0m\u001b[37m\u001b[0m \u001b[1m1s\u001b[0m 2ms/step - accuracy: 0.4924 - loss: 2.0898\n",
      "Test accuracy: 0.49219998717308044\n"
     ]
    }
   ],
   "source": [
    "# Evaluar el modelo\n",
    "test_loss, test_acc = model.evaluate(x_test, y_test)\n",
    "print('Test accuracy:', test_acc)"
   ]
  }
 ],
 "metadata": {
  "accelerator": "GPU",
  "colab": {
   "gpuType": "T4",
   "machine_shape": "hm",
   "provenance": []
  },
  "kernelspec": {
   "display_name": "Python 3 (ipykernel)",
   "language": "python",
   "name": "python3"
  },
  "language_info": {
   "codemirror_mode": {
    "name": "ipython",
    "version": 3
   },
   "file_extension": ".py",
   "mimetype": "text/x-python",
   "name": "python",
   "nbconvert_exporter": "python",
   "pygments_lexer": "ipython3",
   "version": "3.12.4"
  }
 },
 "nbformat": 4,
 "nbformat_minor": 4
}
